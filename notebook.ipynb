{
 "cells": [
  {
   "cell_type": "markdown",
   "metadata": {},
   "source": [
    "'#' Leitet ein Kommentar ein und wird nicht ausgeführt  \n",
    "Text auf die Console ausgeben  \n",
    "Funktion **print()** mit dem Text **\"Hallo Welt :)\"**  \n",
    "Text wird in Anführungszeichen \"...\" geschrieben  "
   ]
  },
  {
   "cell_type": "code",
   "execution_count": null,
   "metadata": {},
   "outputs": [],
   "source": [
    "print(\"Hallo Welt :)\")\n",
    "# Zahlen können auch ausgegeben werden\n",
    "print(1)"
   ]
  },
  {
   "cell_type": "markdown",
   "metadata": {},
   "source": [
    "##### Variablen\n",
    "**name**: Namen der Variable  \n",
    "**=**: Zuweisungssymbol  \n",
    "**Florian**: Wert der Variable  "
   ]
  },
  {
   "cell_type": "code",
   "execution_count": null,
   "metadata": {},
   "outputs": [],
   "source": [
    "name = \"Florian\"\n",
    "print(name)"
   ]
  },
  {
   "cell_type": "markdown",
   "metadata": {},
   "source": [
    "Variablenwert überschreiben"
   ]
  },
  {
   "cell_type": "code",
   "execution_count": null,
   "metadata": {},
   "outputs": [],
   "source": [
    "name = \"Florian\"\n",
    "name = \"Hans\"\n",
    "print(name)"
   ]
  },
  {
   "cell_type": "markdown",
   "metadata": {},
   "source": [
    "Texte zusammensetzen"
   ]
  },
  {
   "cell_type": "code",
   "execution_count": null,
   "metadata": {},
   "outputs": [],
   "source": [
    "vorname = \"Hannes\"\n",
    "nachname = \"Gottschalk\"\n",
    "name = vorname + \" \" + nachname\n",
    "print(name)"
   ]
  },
  {
   "cell_type": "markdown",
   "metadata": {},
   "source": [
    "*Fortgeschritten:*  \n",
    "*Mehrzeiliger Text durch \"\\n\"*"
   ]
  },
  {
   "cell_type": "code",
   "execution_count": null,
   "metadata": {},
   "outputs": [],
   "source": [
    "text = \"Ich heiße Florian.\\nIch wohne in Berlin.\"\n",
    "print(text)"
   ]
  },
  {
   "cell_type": "markdown",
   "metadata": {},
   "source": [
    "##### Rechnen"
   ]
  },
  {
   "cell_type": "code",
   "execution_count": null,
   "metadata": {},
   "outputs": [],
   "source": [
    "x = 15\n",
    "y = 3\n",
    "summe = x + y\n",
    "print(\"Addition (x + y): \" + str(summe))\n",
    "\n",
    "x = 15\n",
    "y = 3\n",
    "differenz = x - y\n",
    "print(\"Subtraktion (x - y): \" + str(differenz))\n",
    "\n",
    "x = 15\n",
    "y = 3\n",
    "produkt = x * y\n",
    "print(\"Multiplikation (x * y): \" + str(produkt))\n",
    "\n",
    "x = 15\n",
    "y = 3\n",
    "quotient = x / y\n",
    "print(\"Division (x / y): \" + str(quotient))\n",
    "\n",
    "x = 15\n",
    "y = 3\n",
    "z = 0.5\n",
    "# Punkt vor Strichrechnung wird Beachtet\n",
    "zahl = x + y * z\n",
    "print(\"x + y * z: \" + str(zahl))\n",
    "\n",
    "x = 15\n",
    "y = 3\n",
    "z = 0.5\n",
    "# Klammern aber auch\n",
    "zahl = (x + y) * z\n",
    "print(\"(x + y) * z: \" + str(zahl))"
   ]
  },
  {
   "cell_type": "markdown",
   "metadata": {},
   "source": [
    "##### Interaktion\n",
    "Wir benutzen die Funktion **input()** zusammen mit der Fragestellung\n"
   ]
  },
  {
   "cell_type": "code",
   "execution_count": null,
   "metadata": {},
   "outputs": [],
   "source": [
    "name = input(\"Wie heißt du? \")\n",
    "print(name)"
   ]
  },
  {
   "cell_type": "markdown",
   "metadata": {},
   "source": [
    "##### Bedingungen\n",
    "\n",
    "**if**: bedeutet wenn (leitet die Bedingung ein)  \n",
    "**alter**: ist der Variablenname, der Variablenwert ist 26  \n",
    "**==**: Vergleicht (anders als = was ja eine Zuweisung ist, siehe oben)  \n",
    "**26**: ist der Wert mit wir unserer Variable vergleichen wollen  \n",
    "*Achtet auf das : am Ende*  \n",
    "\n",
    "**TLDR: Wir vergleichen den Wert der Variable alter mit dem Wert 26**  "
   ]
  },
  {
   "cell_type": "code",
   "execution_count": null,
   "metadata": {},
   "outputs": [],
   "source": [
    "alter = 26\n",
    "if alter == 26:\n",
    "    # mit einem Tab (oder 4 Leerzeichen) eingerückt\n",
    "    # wird ausgeführt wenn die Bedingung zutrifft\n",
    "    print(\"Du bist 26 Jahre alt.\")"
   ]
  },
  {
   "cell_type": "markdown",
   "metadata": {},
   "source": [
    "Variablen miteinander vergleichen  \n",
    "**if**"
   ]
  },
  {
   "cell_type": "code",
   "execution_count": null,
   "metadata": {},
   "outputs": [],
   "source": [
    "anderes_alter = 20 \n",
    "if alter == anderes_alter:\n",
    "    # Wird nicht passieren\n",
    "    print(\"alter und anderes_alter sind gleich\")\n"
   ]
  },
  {
   "cell_type": "markdown",
   "metadata": {},
   "source": [
    "**if else**  \n",
    "wie oben, erweitert mit else um den Fall abzudecken, dass die Bedingung nicht zutraf"
   ]
  },
  {
   "cell_type": "code",
   "execution_count": null,
   "metadata": {},
   "outputs": [],
   "source": [
    "if alter == 14:\n",
    "    print(\"Du bist 26 Jahre alt.\")\n",
    "else:\n",
    "    print(\"Du bist nicht 26.\")"
   ]
  },
  {
   "cell_type": "markdown",
   "metadata": {},
   "source": [
    "**if elif else**  \n",
    "noch einmal erweitert, um andere Werte abzufragen"
   ]
  },
  {
   "cell_type": "code",
   "execution_count": null,
   "metadata": {},
   "outputs": [],
   "source": [
    "if alter == 26:\n",
    "    print(\"Du bist 26 Jahre alt.\")\n",
    "elif alter == 27:\n",
    "    print(\"Du bist 27 Jahre alt.\")\n",
    "else:\n",
    "    print(\"Du bist nicht 26 oder 27.\")"
   ]
  },
  {
   "cell_type": "markdown",
   "metadata": {},
   "source": [
    "**Fortgeschritten**"
   ]
  },
  {
   "cell_type": "code",
   "execution_count": null,
   "metadata": {},
   "outputs": [],
   "source": [
    "alter1 = 15\n",
    "alter2 = 16\n",
    "\n",
    "# alter1 == alter1 # hat als Ergebnis: True\n",
    "# alter1 > alter2 # hat als Ergebnis: False\n",
    "\n",
    "# Gleich\n",
    "ergebnis = alter1 == alter2\n",
    "\n",
    "# Kleiner\n",
    "ergebnis = alter1 < alter2\n",
    "\n",
    "# Größer\n",
    "ergebnis = alter1 > alter2\n",
    "\n",
    "# Kleiner als\n",
    "ergebnis = alter1 <= alter2\n",
    "\n",
    "# Größer als\n",
    "ergebnis = alter1 >= alter2\n",
    "\n",
    "# Ungleich\n",
    "ergebnis = alter1 != alter2\n",
    "\n",
    "# Zusammengesetzt\n",
    "alter3 = 12\n",
    "\n",
    "# Und and\n",
    "ergebnis = alter1 == alter2 and alter2 == alter3\n",
    "\n",
    "# Oder or\n",
    "ergebnis = alter1 < alter2 or alter1 > alter3"
   ]
  },
  {
   "cell_type": "markdown",
   "metadata": {},
   "source": [
    "##### Funktionen\n",
    "**def**: leitet Funktion ein  \n",
    "**sage_1**: ist der **Funktionsname** und kann frei gewählt werden  \n",
    "Es wird die Zahl 1 auf die Konsole geschrieben  "
   ]
  },
  {
   "cell_type": "code",
   "execution_count": null,
   "metadata": {},
   "outputs": [],
   "source": [
    "def sage_1():\n",
    "    print(1)\n",
    "\n",
    "sage_1()"
   ]
  },
  {
   "cell_type": "markdown",
   "metadata": {},
   "source": [
    "**Funktionsname** ist hier **schreibe_alter**  \n",
    "Unsere Funktion hat einen **Parameter** names **alter**"
   ]
  },
  {
   "cell_type": "code",
   "execution_count": null,
   "metadata": {},
   "outputs": [],
   "source": [
    "def schreibe_alter(alter):\n",
    "    print(\"Du bist \" + alter + \" Jahre alt.\")\n",
    "\n",
    "schreibe_alter(\"26\")"
   ]
  },
  {
   "cell_type": "markdown",
   "metadata": {},
   "source": [
    "Funktionsname **multiplizieren**  \n",
    "Unsere Funktion hat einen **zwei** Parameter, durch , getrennt"
   ]
  },
  {
   "cell_type": "code",
   "execution_count": null,
   "metadata": {},
   "outputs": [],
   "source": [
    "def multiplizieren(faktor1, faktor2):\n",
    "    print(faktor1 * faktor2)\n",
    "\n",
    "multiplizieren(26, 2)"
   ]
  },
  {
   "cell_type": "markdown",
   "metadata": {},
   "source": [
    "Funktionsname **addieren**  \n",
    "Unsere Funktion **gibt** das Ergebnis der Addition **zurück** (return)"
   ]
  },
  {
   "cell_type": "code",
   "execution_count": null,
   "metadata": {},
   "outputs": [],
   "source": [
    "def addieren(summand1, summand2):\n",
    "    return summand1 + summand2\n",
    "\n",
    "summe = addieren(12, 3)\n",
    "print(summe)"
   ]
  },
  {
   "cell_type": "markdown",
   "metadata": {},
   "source": [
    "Funktionen können auch **Variablen als Parameter** erhalten"
   ]
  },
  {
   "cell_type": "code",
   "execution_count": null,
   "metadata": {},
   "outputs": [],
   "source": [
    "multiplizieren(summe, 2)"
   ]
  },
  {
   "cell_type": "markdown",
   "metadata": {},
   "source": [
    "*Fortgeschritten:*  \n",
    "Funktion in Funktion"
   ]
  },
  {
   "cell_type": "code",
   "execution_count": null,
   "metadata": {},
   "outputs": [],
   "source": [
    "zahl = multiplizieren(addieren(12, 3), 2)\n",
    "print(zahl)\n",
    "# selbe wie\n",
    "# summe = addieren(12, 3)\n",
    "# produkt = multiplizieren(summe, 2)"
   ]
  },
  {
   "cell_type": "markdown",
   "metadata": {},
   "source": [
    "##### Listen\n",
    "Bisher: zahl = 1 oder name = \"Florian\"  \n",
    "Beinhaltet mehrere Werte  "
   ]
  },
  {
   "cell_type": "code",
   "execution_count": null,
   "metadata": {},
   "outputs": [],
   "source": [
    "zahlen = [1, 2, 3, 4]\n",
    "print(zahlen)\n",
    "namen = [\"Florian\", \"Elli\", \"Markus\", \"Lisa\",]\n",
    "print(namen)"
   ]
  },
  {
   "cell_type": "markdown",
   "metadata": {},
   "source": [
    "Zugriff auf einzelne Werte durch sogenannten Index  \n",
    "Wichtig!: Index fängt in Python bei 0 an (Ist in den allermeisten Programmiersprachen so)"
   ]
  },
  {
   "cell_type": "code",
   "execution_count": null,
   "metadata": {},
   "outputs": [],
   "source": [
    "print(namen[0])\n",
    "print(namen[1])"
   ]
  },
  {
   "cell_type": "code",
   "execution_count": null,
   "metadata": {},
   "outputs": [],
   "source": [
    "# Leere List\n",
    "zahlen = []\n",
    "print(zahlen)"
   ]
  },
  {
   "cell_type": "markdown",
   "metadata": {},
   "source": [
    "*Fortgeschritten:*"
   ]
  },
  {
   "cell_type": "code",
   "execution_count": null,
   "metadata": {},
   "outputs": [],
   "source": [
    "print(namen)\n",
    "# Wert Hinzufügen\n",
    "namen.append(\"Klaus\")\n",
    "print(namen)\n",
    "# Wert löschen\n",
    "namen.remove(\"Markus\")\n",
    "print(namen)"
   ]
  },
  {
   "cell_type": "markdown",
   "metadata": {},
   "source": [
    "##### Schleifen"
   ]
  },
  {
   "cell_type": "markdown",
   "metadata": {},
   "source": [
    "**while** Schleife (während)  \n",
    "Wird solange ausgeführt bis die Bedingung  \n",
    "\"aktuell < bis\" nicht mehr zutrifft  \n",
    "*Überlege*: Was wird Ausgegeben?  \n",
    "(Schreib dir die einzelnen Schleifendurchläufe auf ein Stück Papier)  "
   ]
  },
  {
   "cell_type": "code",
   "execution_count": null,
   "metadata": {},
   "outputs": [],
   "source": [
    "aktuell = 1\n",
    "bis = 10\n",
    "while aktuell < bis:\n",
    "    print(aktuell)\n",
    "    aktuell = aktuell + 1\n",
    "    # oder aktuell += 1"
   ]
  },
  {
   "cell_type": "markdown",
   "metadata": {},
   "source": [
    "**for** Schleife (für)  \n",
    "Wird für alle Werte in der List ausgeführt"
   ]
  },
  {
   "cell_type": "code",
   "execution_count": null,
   "metadata": {},
   "outputs": [],
   "source": [
    "zahlen = [1, 2, 3, 4]\n",
    "for aktuell in zahlen:\n",
    "    print(aktuell)"
   ]
  },
  {
   "cell_type": "code",
   "execution_count": null,
   "metadata": {},
   "outputs": [],
   "source": [
    "# Aufsummieren der Liste\n",
    "summe = 0\n",
    "for aktuell in zahlen:\n",
    "    summe = summe + aktuell\n",
    "print(summe)"
   ]
  },
  {
   "cell_type": "code",
   "execution_count": null,
   "metadata": {},
   "outputs": [],
   "source": [
    "# oder\n",
    "print(sum(zahlen))"
   ]
  },
  {
   "cell_type": "markdown",
   "metadata": {},
   "source": [
    "Kreisumfang einer Liste von Radien berechnen"
   ]
  },
  {
   "cell_type": "code",
   "execution_count": null,
   "metadata": {},
   "outputs": [],
   "source": [
    "def kreisumfang(radius):\n",
    "    pi = 3.14159 # zumindest ungefähr\n",
    "    return pi * radius * 2\n",
    "    \n",
    "radien = [1, 2, 3, 4]\n",
    "for radius in radien:\n",
    "    umfang = kreisumfang(radius)\n",
    "    print(f\"Der Umfang eines Kreises mit dem Radius \" + str(radius) + \" ist \" + str(umfang) + \".\")\n",
    "    # oder\n",
    "    # print(f\"Der Umfang eines Kreises mit dem Radius {radius} ist {kreisumfang(radius)}.\")"
   ]
  },
  {
   "cell_type": "markdown",
   "metadata": {},
   "source": [
    "*\"import\"* Anweisungen stehen normalweise oben, am Anfang des Skripts  \n",
    "\n",
    "Stellt uns weitere, von anderen Personen erstellte Funktionen zur Verfügung  \n",
    "Hier: random, (Pseudo)Zufallszahlen mit der Funktion randint zwischen (inklusive) 1 und (inklusive) 100.  "
   ]
  },
  {
   "cell_type": "code",
   "execution_count": null,
   "metadata": {},
   "outputs": [],
   "source": [
    "import random\n",
    "\n",
    "zahl = random.randint(1, 100)\n",
    "print(\"Zufallszahl: \" + str(zahl))\n",
    "\n",
    "# oder ein genauerer Wert für PI\n",
    "import math\n",
    "\n",
    "pi = math.pi\n",
    "print(pi)"
   ]
  }
 ],
 "metadata": {
  "kernelspec": {
   "display_name": "Python 3",
   "language": "python",
   "name": "python3"
  },
  "language_info": {
   "codemirror_mode": {
    "name": "ipython",
    "version": 3
   },
   "file_extension": ".py",
   "mimetype": "text/x-python",
   "name": "python",
   "nbconvert_exporter": "python",
   "pygments_lexer": "ipython3",
   "version": "3.10.8"
  }
 },
 "nbformat": 4,
 "nbformat_minor": 2
}
